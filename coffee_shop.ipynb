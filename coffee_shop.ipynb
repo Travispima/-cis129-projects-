{
 "cells": [
  {
   "cell_type": "code",
   "execution_count": 1,
   "id": "3e0ec35a-262c-4929-93e4-71536442c989",
   "metadata": {},
   "outputs": [],
   "source": [
    "    #My Coffee Shop Simulator"
   ]
  },
  {
   "cell_type": "code",
   "execution_count": null,
   "id": "4d1e2eff-742d-4166-b8fb-cc41ae594206",
   "metadata": {},
   "outputs": [],
   "source": []
  },
  {
   "cell_type": "code",
   "execution_count": 2,
   "id": "1aeec631-ff42-4ae0-a5a4-d3723bc37a78",
   "metadata": {},
   "outputs": [],
   "source": [
    "    #assigns a number value to the variables; coffee and muffin"
   ]
  },
  {
   "cell_type": "code",
   "execution_count": 3,
   "id": "a3db40e3-a493-478c-9c72-5587a6fe6760",
   "metadata": {},
   "outputs": [],
   "source": [
    "coffee_price = int(5)"
   ]
  },
  {
   "cell_type": "code",
   "execution_count": 4,
   "id": "00f7fcb8-6884-484d-b6d6-87383719f467",
   "metadata": {},
   "outputs": [],
   "source": [
    "muffin_price = int(4)"
   ]
  },
  {
   "cell_type": "code",
   "execution_count": null,
   "id": "d58b5f97-3fe1-44b4-bc8a-bb4e4dcd94c9",
   "metadata": {},
   "outputs": [],
   "source": []
  },
  {
   "cell_type": "code",
   "execution_count": 5,
   "id": "9b10120e-d50d-46b5-bc6f-1184070f59d9",
   "metadata": {},
   "outputs": [],
   "source": [
    "    #asks the customer for their order"
   ]
  },
  {
   "cell_type": "code",
   "execution_count": null,
   "id": "fec70a47-7432-4e10-a552-1fd1a6586572",
   "metadata": {},
   "outputs": [],
   "source": [
    "coffee_amount = int(input('How many coffees would you like to order?\\n'))"
   ]
  },
  {
   "cell_type": "code",
   "execution_count": null,
   "id": "7dc0ea6f-bd90-4e3b-b2f9-8f359143edda",
   "metadata": {},
   "outputs": [],
   "source": [
    "muffin_amount = int(input('How many muffins can I get you?\\n'))"
   ]
  },
  {
   "cell_type": "code",
   "execution_count": null,
   "id": "f4cf654e-533e-4620-b3ae-c1afd078e0c2",
   "metadata": {},
   "outputs": [],
   "source": []
  },
  {
   "cell_type": "code",
   "execution_count": null,
   "id": "a2e30966-2947-4b3d-ab81-cc941318ff36",
   "metadata": {},
   "outputs": [],
   "source": [
    "    #assigns the sales tax amount to the variable sales_tax"
   ]
  },
  {
   "cell_type": "code",
   "execution_count": null,
   "id": "e65e44d6-b92e-44a5-840c-7ac00f8764ca",
   "metadata": {},
   "outputs": [],
   "source": [
    "sales_tax = float(.06)"
   ]
  },
  {
   "cell_type": "code",
   "execution_count": null,
   "id": "f41d698d-790f-40b0-9db5-3b2f8e1ad4d2",
   "metadata": {},
   "outputs": [],
   "source": []
  },
  {
   "cell_type": "code",
   "execution_count": null,
   "id": "5a12cf39-2e4c-4c4e-9174-deb04ccaf5ad",
   "metadata": {},
   "outputs": [],
   "source": [
    "    #calculates the value of individual items ordered and creates the new variables"
   ]
  },
  {
   "cell_type": "code",
   "execution_count": null,
   "id": "b983681a-f349-45bc-ba45-6c7b95b5d3d2",
   "metadata": {},
   "outputs": [],
   "source": [
    "coffee_total = coffee_amount * coffee_price"
   ]
  },
  {
   "cell_type": "code",
   "execution_count": null,
   "id": "80ac9766-e355-4331-b2e5-7d4347e2b0cd",
   "metadata": {},
   "outputs": [],
   "source": [
    "muffin_total = muffin_amount * muffin_price"
   ]
  },
  {
   "cell_type": "code",
   "execution_count": null,
   "id": "1d07d4a8-3344-451c-a3a3-674343e0eefc",
   "metadata": {},
   "outputs": [],
   "source": []
  },
  {
   "cell_type": "code",
   "execution_count": null,
   "id": "88a319a1-64ea-4226-8fc8-17fa63443c58",
   "metadata": {},
   "outputs": [],
   "source": [
    "    #calculates the subtotal and creates the subtotal variable"
   ]
  },
  {
   "cell_type": "code",
   "execution_count": null,
   "id": "26ff8edd-3ec9-472a-8420-bfde263e2c2d",
   "metadata": {},
   "outputs": [],
   "source": [
    "subtotal = coffee_total + muffin_total"
   ]
  },
  {
   "cell_type": "code",
   "execution_count": null,
   "id": "637e1900-edbc-47e8-ad06-32fb3c234eb8",
   "metadata": {},
   "outputs": [],
   "source": []
  },
  {
   "cell_type": "code",
   "execution_count": null,
   "id": "49c8294b-7ffc-474f-aec9-1fc2263bf77a",
   "metadata": {},
   "outputs": [],
   "source": [
    "    #calculates the amount of tax and creates the tax variable"
   ]
  },
  {
   "cell_type": "code",
   "execution_count": null,
   "id": "142d59c8-a27f-484d-ac7c-c34bf77543bd",
   "metadata": {},
   "outputs": [],
   "source": [
    "tax = sales_tax * subtotal"
   ]
  },
  {
   "cell_type": "code",
   "execution_count": null,
   "id": "c19ee28d-df91-4396-a723-f63bfb2d2c5f",
   "metadata": {},
   "outputs": [],
   "source": []
  },
  {
   "cell_type": "code",
   "execution_count": null,
   "id": "f1c1f002-91bd-432a-ac9d-d2d9c393b5f9",
   "metadata": {},
   "outputs": [],
   "source": [
    "    #calculates the total amount to be paid and creates the total variable"
   ]
  },
  {
   "cell_type": "code",
   "execution_count": null,
   "id": "5afa9a50-9254-4a0c-a4b3-2d966b9eb281",
   "metadata": {},
   "outputs": [],
   "source": [
    "total = subtotal + tax"
   ]
  },
  {
   "cell_type": "code",
   "execution_count": null,
   "id": "bf2dffe9-9995-47cd-b16c-f2dafcd92dbe",
   "metadata": {},
   "outputs": [],
   "source": []
  },
  {
   "cell_type": "code",
   "execution_count": null,
   "id": "75d52961-8859-42ae-adbb-979ac9308b21",
   "metadata": {},
   "outputs": [],
   "source": [
    "    #displays the receipt and utilizes the variables made previously "
   ]
  },
  {
   "cell_type": "code",
   "execution_count": null,
   "id": "864ba4c9-cb06-4690-9039-62971ce16d91",
   "metadata": {},
   "outputs": [],
   "source": [
    "print('*****************************************')"
   ]
  },
  {
   "cell_type": "code",
   "execution_count": null,
   "id": "ef829812-e02c-475b-8dde-75af5eb8e2b5",
   "metadata": {},
   "outputs": [],
   "source": [
    "print('My Coffee and Muffin Shop')"
   ]
  },
  {
   "cell_type": "code",
   "execution_count": null,
   "id": "bcfea3af-226f-4204-838d-0c382f8a7003",
   "metadata": {},
   "outputs": [],
   "source": [
    "print('Number of coffees bought?')"
   ]
  },
  {
   "cell_type": "code",
   "execution_count": null,
   "id": "de8e90af-9d76-4b24-8ba8-479ba32bcafc",
   "metadata": {},
   "outputs": [],
   "source": [
    "print(coffee_amount)"
   ]
  },
  {
   "cell_type": "code",
   "execution_count": null,
   "id": "a5ef61e1-ed46-4c51-b9d6-51d7272e978f",
   "metadata": {},
   "outputs": [],
   "source": [
    "print('Number of muffins bought?')"
   ]
  },
  {
   "cell_type": "code",
   "execution_count": null,
   "id": "e8ac98b7-b2d3-4d71-b6a5-2e8ead5a0149",
   "metadata": {},
   "outputs": [],
   "source": [
    "print(muffin_amount)"
   ]
  },
  {
   "cell_type": "code",
   "execution_count": null,
   "id": "36eca5db-4ead-414b-a12d-05873b104b42",
   "metadata": {},
   "outputs": [],
   "source": [
    "print('*****************************************\\n')"
   ]
  },
  {
   "cell_type": "code",
   "execution_count": null,
   "id": "234542d1-712b-43e3-937f-76da9c2395ae",
   "metadata": {},
   "outputs": [],
   "source": [
    "print('*****************************************')"
   ]
  },
  {
   "cell_type": "code",
   "execution_count": null,
   "id": "c2e6f766-f88a-43fe-ac74-a4a5837619bc",
   "metadata": {},
   "outputs": [],
   "source": [
    "print('My Coffee and Muffin Shop Receipt')"
   ]
  },
  {
   "cell_type": "code",
   "execution_count": null,
   "id": "b8d130da-f586-48a1-aa52-454de502f721",
   "metadata": {},
   "outputs": [],
   "source": [
    "print(coffee_amount, 'Coffee at $5 each: $', coffee_total)"
   ]
  },
  {
   "cell_type": "code",
   "execution_count": null,
   "id": "77a9a7bb-e3f2-44d0-b831-1f36151df7d0",
   "metadata": {},
   "outputs": [],
   "source": [
    "print(muffin_amount, 'Muffins at $4 each: $', muffin_total)"
   ]
  },
  {
   "cell_type": "code",
   "execution_count": null,
   "id": "30b740a2-cabb-446c-b1b7-3806bb3fc4d9",
   "metadata": {},
   "outputs": [],
   "source": [
    "print('6% tax: $', tax)"
   ]
  },
  {
   "cell_type": "code",
   "execution_count": null,
   "id": "4d912875-cd66-4821-8c5c-0c8dbabac410",
   "metadata": {},
   "outputs": [],
   "source": [
    "print('----------')"
   ]
  },
  {
   "cell_type": "code",
   "execution_count": null,
   "id": "833daab3-788b-4f9d-938b-8fd2a741d043",
   "metadata": {},
   "outputs": [],
   "source": [
    "print('Total: $', total)"
   ]
  }
 ],
 "metadata": {
  "kernelspec": {
   "display_name": "Python 3 (ipykernel)",
   "language": "python",
   "name": "python3"
  },
  "language_info": {
   "codemirror_mode": {
    "name": "ipython",
    "version": 3
   },
   "file_extension": ".py",
   "mimetype": "text/x-python",
   "name": "python",
   "nbconvert_exporter": "python",
   "pygments_lexer": "ipython3",
   "version": "3.11.5"
  }
 },
 "nbformat": 4,
 "nbformat_minor": 5
}
